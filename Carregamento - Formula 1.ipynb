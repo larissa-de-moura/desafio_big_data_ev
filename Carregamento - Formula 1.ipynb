{
 "cells": [
  {
   "cell_type": "code",
   "execution_count": 92,
   "metadata": {},
   "outputs": [],
   "source": [
    "#Para este carregamento de dados usarei as 4 bibliotecas abaixo\n",
    "\n",
    "import sqlite3\n",
    "import pyarrow as pa\n",
    "import pyarrow.parquet as pq\n",
    "import pandas as pd\n",
    "import numpy as np"
   ]
  },
  {
   "cell_type": "code",
   "execution_count": 93,
   "metadata": {},
   "outputs": [],
   "source": [
    "#Usei a biblioteca sqlite3 para conectar direto com o arquivo do banco\n",
    "\n",
    "cnx = sqlite3.connect('formula-1.db')"
   ]
  },
  {
   "cell_type": "code",
   "execution_count": 99,
   "metadata": {},
   "outputs": [
    {
     "name": "stdout",
     "output_type": "stream",
     "text": [
      "circuito is done\n",
      "corrida is done\n",
      "equipe is done\n",
      "historico_equipe is done\n",
      "historico_piloto is done\n",
      "piloto is done\n",
      "resultado is done\n",
      "sqlite_sequence is done\n",
      "status is done\n",
      "tempo_por_parada is done\n",
      "tempo_por_volta is done\n",
      "temporada is done\n",
      "treino_oficial is done\n"
     ]
    }
   ],
   "source": [
    "tabelas_lista = [\"circuito\", \"corrida\", \"equipe\", \"historico_equipe\", \"historico_piloto\", \"piloto\", \"resultado\",\n",
    "          \"sqlite_sequence\", \"status\", \"tempo_por_parada\", \"tempo_por_volta\", \"temporada\", \"treino_oficial\"]\n",
    "\n",
    "#Criei o dataframe de cada uma das tabelas usando um loop sobre tabelas_lista + leitura de query do Pandas\n",
    "\n",
    "select_template = \"SELECT * FROM {tabela_nome}\"\n",
    "\n",
    "for tname in tabelas_lista:\n",
    "    print (tname + ' is done')\n",
    "    query = select_template.format(tabela_nome = tname)\n",
    "    df_tname = pd.read_sql(query, cnx)\n",
    "    \n",
    "    #Algumas colunas dos DFs tiveram problemas de tipagem ao serem lidas\n",
    "    #Verifiquei e a causa foi que algumas linhas tinham int e outras, str (em uma mesma coluna)\n",
    "    #Precisei compatilizar os tipos usando dtypes do numpy\n",
    "    \n",
    "    column_types = df_tname.dtypes\n",
    "    object_columns = column_types[column_types == pd.np.object]\n",
    "    object_columns_names = object_columns.index\n",
    "    df_tname[object_columns_names] = df_tname[object_columns_names].astype(str)\n",
    "    \n",
    "    #Por fim, a geração dos arquivos.parquet\n",
    "    df_tname.to_parquet(tname +'.parquet')"
   ]
  },
  {
   "cell_type": "code",
   "execution_count": 108,
   "metadata": {},
   "outputs": [
    {
     "data": {
      "text/html": [
       "<div>\n",
       "<style scoped>\n",
       "    .dataframe tbody tr th:only-of-type {\n",
       "        vertical-align: middle;\n",
       "    }\n",
       "\n",
       "    .dataframe tbody tr th {\n",
       "        vertical-align: top;\n",
       "    }\n",
       "\n",
       "    .dataframe thead th {\n",
       "        text-align: right;\n",
       "    }\n",
       "</style>\n",
       "<table border=\"1\" class=\"dataframe\">\n",
       "  <thead>\n",
       "    <tr style=\"text-align: right;\">\n",
       "      <th></th>\n",
       "      <th>id</th>\n",
       "      <th>corrida_id</th>\n",
       "      <th>equipe_id</th>\n",
       "      <th>pontuacao</th>\n",
       "      <th>posicao</th>\n",
       "      <th>posicao_rotulo</th>\n",
       "      <th>vitorias</th>\n",
       "    </tr>\n",
       "  </thead>\n",
       "  <tbody>\n",
       "    <tr>\n",
       "      <th>0</th>\n",
       "      <td>1</td>\n",
       "      <td>18</td>\n",
       "      <td>1</td>\n",
       "      <td>14.0</td>\n",
       "      <td>1</td>\n",
       "      <td>1</td>\n",
       "      <td>1</td>\n",
       "    </tr>\n",
       "    <tr>\n",
       "      <th>1</th>\n",
       "      <td>2</td>\n",
       "      <td>18</td>\n",
       "      <td>2</td>\n",
       "      <td>8.0</td>\n",
       "      <td>3</td>\n",
       "      <td>3</td>\n",
       "      <td>0</td>\n",
       "    </tr>\n",
       "    <tr>\n",
       "      <th>2</th>\n",
       "      <td>3</td>\n",
       "      <td>18</td>\n",
       "      <td>3</td>\n",
       "      <td>9.0</td>\n",
       "      <td>2</td>\n",
       "      <td>2</td>\n",
       "      <td>0</td>\n",
       "    </tr>\n",
       "    <tr>\n",
       "      <th>3</th>\n",
       "      <td>4</td>\n",
       "      <td>18</td>\n",
       "      <td>4</td>\n",
       "      <td>5.0</td>\n",
       "      <td>4</td>\n",
       "      <td>4</td>\n",
       "      <td>0</td>\n",
       "    </tr>\n",
       "    <tr>\n",
       "      <th>4</th>\n",
       "      <td>5</td>\n",
       "      <td>18</td>\n",
       "      <td>5</td>\n",
       "      <td>2.0</td>\n",
       "      <td>5</td>\n",
       "      <td>5</td>\n",
       "      <td>0</td>\n",
       "    </tr>\n",
       "  </tbody>\n",
       "</table>\n",
       "</div>"
      ],
      "text/plain": [
       "   id  corrida_id  equipe_id  pontuacao  posicao posicao_rotulo  vitorias\n",
       "0   1          18          1       14.0        1              1         1\n",
       "1   2          18          2        8.0        3              3         0\n",
       "2   3          18          3        9.0        2              2         0\n",
       "3   4          18          4        5.0        4              4         0\n",
       "4   5          18          5        2.0        5              5         0"
      ]
     },
     "execution_count": 108,
     "metadata": {},
     "output_type": "execute_result"
    }
   ],
   "source": [
    "#Peguei uma tabela como amostra para testar se o parquet estava funcionando:\n",
    "\n",
    "teste = pd.read_parquet('historico_equipe.parquet')\n",
    "teste.head()\n",
    "\n",
    "#Há um exemplo abaixo:"
   ]
  }
 ],
 "metadata": {
  "kernelspec": {
   "display_name": "Python 3",
   "language": "python",
   "name": "python3"
  },
  "language_info": {
   "codemirror_mode": {
    "name": "ipython",
    "version": 3
   },
   "file_extension": ".py",
   "mimetype": "text/x-python",
   "name": "python",
   "nbconvert_exporter": "python",
   "pygments_lexer": "ipython3",
   "version": "3.7.1"
  }
 },
 "nbformat": 4,
 "nbformat_minor": 2
}
